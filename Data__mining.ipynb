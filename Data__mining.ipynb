{
 "cells": [
  {
   "cell_type": "code",
   "execution_count": 1,
   "metadata": {},
   "outputs": [],
   "source": [
    "import tweepy\n",
    "import tweepy as tw\n",
    "from tweepy import OAuthHandler\n",
    "import pandas as pd\n",
    "import matplotlib.pyplot as plt\n",
    "\n",
    "consumer_key = 'AWmHqVM5QKcil1wNIBDmMsYp7'\n",
    "consumer_secret = 'Y05WTDkYkCj8LaI4xNYRwPwLmlKzNOX9ds1jePiJyuiHzEdtCb'\n",
    "access_token = '531149924-aiaOvCgeMdg1ZwrMUEJ59YGFbYzbOsYAzwwokPLp'\n",
    "access_secret = 'uK0URvOYgzZ7BLzmb2LmwLa2BIBVVNhTK9fptHudUq11C'\n",
    " \n",
    "auth = OAuthHandler(consumer_key, consumer_secret)\n",
    "auth.set_access_token(access_token, access_secret)\n",
    " \n",
    "api = tweepy.API(auth)"
   ]
  },
  {
   "cell_type": "code",
   "execution_count": 2,
   "metadata": {},
   "outputs": [
    {
     "data": {
      "text/plain": [
       "['Listening to her first thunder ❤️ #hamster #hamstersofinstagram #syrianhamster #syrianhamstersofinstagram #lockdown… https://t.co/OpW3DspSxP',\n",
       " 'Sometimes we can forget the benefits of lockdown and homeworking. If we engage with the potential discoveries can b… https://t.co/u5sT8L0vH0',\n",
       " 'https://t.co/uWFQgYRE3i   How To Make 14th August independence Day Head Cap For Kids.… https://t.co/v7q0ul0RwQ',\n",
       " \"We're listening to Kid Creole and the Coconuts and eating pancakes, what are you guys doing? #lockdown\",\n",
       " '#Scotland #Uk #Lockdown #Weather #thunderstorm\\n\\nScotlands Best Thunder and Lightning Storm So Far. Edinburgh UK https://t.co/Qy8gSsvkAm',\n",
       " 'And yet in a shop of about 20 people on 3 of us wore masks\\n48 new cases were recorded in the last 24 hours and 179… https://t.co/M5UiEIL5fS',\n",
       " 'Words Of Wisdom (Proverbs 11) \"Be Ready”\\n\\nFull Video: https://t.co/RUnu4YtZm4\\n\\n#christian #Christ #Jesus #Yeshua… https://t.co/9zeaVs8Xgz',\n",
       " \"@MattHancock For those undermining the LOGIC for lockdowns please listen to this👇 then listen AGAIN because it's no… https://t.co/LDviFMIPMw\",\n",
       " 'August 11th 2020 - The Day the Aliens made themselves known! #wtfweather #weather #storm #aliens #2020 #covid… https://t.co/NYGhwIv5TI',\n",
       " 'Join @jenahansen on the #MoreMusicBreakfastShow 30 Day Mental Health Challenge! \\n\\nJust one positive thing a day can… https://t.co/ayOx8AAjPi']"
      ]
     },
     "execution_count": 2,
     "metadata": {},
     "output_type": "execute_result"
    }
   ],
   "source": [
    "hashtag = \"#lockdown\"\n",
    "exclude_retweets = hashtag + \" -filter:retweets\"\n",
    "\n",
    "tweets = tw.Cursor(api.search,q=exclude_retweets,lang=\"en\").items(10)\n",
    "\n",
    "[tweet.text for tweet in tweets]"
   ]
  },
  {
   "cell_type": "code",
   "execution_count": 3,
   "metadata": {},
   "outputs": [],
   "source": [
    "tweets = tw.Cursor(api.search,\n",
    "                   q=exclude_retweets,\n",
    "                   lang=\"en\").items(10)\n",
    "\n",
    "tweets_info = [[tweet.user.screen_name,tweet.text, tweet.created_at]\n",
    "             for tweet in tweets]\n",
    "#Creating a pandas dataframe.\n",
    "df = pd.DataFrame(data=tweets_info,\n",
    "                            columns=[\"Username\",\"Tweet\",\"Timestamp\"])"
   ]
  },
  {
   "cell_type": "code",
   "execution_count": 4,
   "metadata": {},
   "outputs": [
    {
     "data": {
      "text/html": [
       "<div>\n",
       "<style scoped>\n",
       "    .dataframe tbody tr th:only-of-type {\n",
       "        vertical-align: middle;\n",
       "    }\n",
       "\n",
       "    .dataframe tbody tr th {\n",
       "        vertical-align: top;\n",
       "    }\n",
       "\n",
       "    .dataframe thead th {\n",
       "        text-align: right;\n",
       "    }\n",
       "</style>\n",
       "<table border=\"1\" class=\"dataframe\">\n",
       "  <thead>\n",
       "    <tr style=\"text-align: right;\">\n",
       "      <th></th>\n",
       "      <th>Username</th>\n",
       "      <th>Tweet</th>\n",
       "      <th>Timestamp</th>\n",
       "    </tr>\n",
       "  </thead>\n",
       "  <tbody>\n",
       "    <tr>\n",
       "      <th>0</th>\n",
       "      <td>hannah___mac</td>\n",
       "      <td>Listening to her first thunder ❤️ #hamster #ha...</td>\n",
       "      <td>2020-08-11 22:29:48</td>\n",
       "    </tr>\n",
       "    <tr>\n",
       "      <th>1</th>\n",
       "      <td>_DiKeller</td>\n",
       "      <td>Sometimes we can forget the benefits of lockdo...</td>\n",
       "      <td>2020-08-11 22:29:43</td>\n",
       "    </tr>\n",
       "    <tr>\n",
       "      <th>2</th>\n",
       "      <td>paperthings5</td>\n",
       "      <td>https://t.co/uWFQgYRE3i   How To Make 14th Aug...</td>\n",
       "      <td>2020-08-11 22:27:47</td>\n",
       "    </tr>\n",
       "    <tr>\n",
       "      <th>3</th>\n",
       "      <td>JaqTweedie</td>\n",
       "      <td>We're listening to Kid Creole and the Coconuts...</td>\n",
       "      <td>2020-08-11 22:27:10</td>\n",
       "    </tr>\n",
       "    <tr>\n",
       "      <th>4</th>\n",
       "      <td>MrSpock2020</td>\n",
       "      <td>#Scotland #Uk #Lockdown #Weather #thunderstorm...</td>\n",
       "      <td>2020-08-11 22:26:46</td>\n",
       "    </tr>\n",
       "    <tr>\n",
       "      <th>5</th>\n",
       "      <td>StephenGAWA</td>\n",
       "      <td>And yet in a shop of about 20 people on 3 of u...</td>\n",
       "      <td>2020-08-11 22:26:25</td>\n",
       "    </tr>\n",
       "    <tr>\n",
       "      <th>6</th>\n",
       "      <td>larrynewport</td>\n",
       "      <td>Words Of Wisdom (Proverbs 11) \"Be Ready”\\n\\nFu...</td>\n",
       "      <td>2020-08-11 22:25:30</td>\n",
       "    </tr>\n",
       "    <tr>\n",
       "      <th>7</th>\n",
       "      <td>My_Magicwishes</td>\n",
       "      <td>@MattHancock For those undermining the LOGIC f...</td>\n",
       "      <td>2020-08-11 22:24:14</td>\n",
       "    </tr>\n",
       "    <tr>\n",
       "      <th>8</th>\n",
       "      <td>stokejoelio</td>\n",
       "      <td>August 11th 2020 - The Day the Aliens made the...</td>\n",
       "      <td>2020-08-11 22:20:45</td>\n",
       "    </tr>\n",
       "    <tr>\n",
       "      <th>9</th>\n",
       "      <td>smoothfm915</td>\n",
       "      <td>Join @jenahansen on the #MoreMusicBreakfastSho...</td>\n",
       "      <td>2020-08-11 22:20:37</td>\n",
       "    </tr>\n",
       "  </tbody>\n",
       "</table>\n",
       "</div>"
      ],
      "text/plain": [
       "         Username                                              Tweet  \\\n",
       "0    hannah___mac  Listening to her first thunder ❤️ #hamster #ha...   \n",
       "1       _DiKeller  Sometimes we can forget the benefits of lockdo...   \n",
       "2    paperthings5  https://t.co/uWFQgYRE3i   How To Make 14th Aug...   \n",
       "3      JaqTweedie  We're listening to Kid Creole and the Coconuts...   \n",
       "4     MrSpock2020  #Scotland #Uk #Lockdown #Weather #thunderstorm...   \n",
       "5     StephenGAWA  And yet in a shop of about 20 people on 3 of u...   \n",
       "6    larrynewport  Words Of Wisdom (Proverbs 11) \"Be Ready”\\n\\nFu...   \n",
       "7  My_Magicwishes  @MattHancock For those undermining the LOGIC f...   \n",
       "8     stokejoelio  August 11th 2020 - The Day the Aliens made the...   \n",
       "9     smoothfm915  Join @jenahansen on the #MoreMusicBreakfastSho...   \n",
       "\n",
       "            Timestamp  \n",
       "0 2020-08-11 22:29:48  \n",
       "1 2020-08-11 22:29:43  \n",
       "2 2020-08-11 22:27:47  \n",
       "3 2020-08-11 22:27:10  \n",
       "4 2020-08-11 22:26:46  \n",
       "5 2020-08-11 22:26:25  \n",
       "6 2020-08-11 22:25:30  \n",
       "7 2020-08-11 22:24:14  \n",
       "8 2020-08-11 22:20:45  \n",
       "9 2020-08-11 22:20:37  "
      ]
     },
     "execution_count": 4,
     "metadata": {},
     "output_type": "execute_result"
    }
   ],
   "source": [
    "df"
   ]
  },
  {
   "cell_type": "code",
   "execution_count": 5,
   "metadata": {},
   "outputs": [
    {
     "data": {
      "image/png": "[encoded data removed]",
      "text/plain": [
       "<Figure size 432x288 with 1 Axes>"
      ]
     },
     "metadata": {
      "needs_background": "light"
     },
     "output_type": "display_data"
    }
   ],
   "source": [
    "plt.hist(df['Timestamp'],bins=10)\n",
    "plt.show()"
   ]
  },
  {
   "cell_type": "code",
   "execution_count": null,
   "metadata": {},
   "outputs": [],
   "source": []
  },
  {
   "cell_type": "code",
   "execution_count": null,
   "metadata": {},
   "outputs": [],
   "source": []
  },
  {
   "cell_type": "code",
   "execution_count": null,
   "metadata": {},
   "outputs": [],
   "source": []
  }
 ],
 "metadata": {
  "kernelspec": {
   "display_name": "Python 3",
   "language": "python",
   "name": "python3"
  },
  "language_info": {
   "codemirror_mode": {
    "name": "ipython",
    "version": 3
   },
   "file_extension": ".py",
   "mimetype": "text/x-python",
   "name": "python",
   "nbconvert_exporter": "python",
   "pygments_lexer": "ipython3",
   "version": "3.7.1"
  }
 },
 "nbformat": 4,
 "nbformat_minor": 2
}
